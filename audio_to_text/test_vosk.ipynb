{
 "cells": [
  {
   "cell_type": "markdown",
   "metadata": {},
   "source": [
    "https://alphacephei.com/vosk/"
   ]
  },
  {
   "cell_type": "code",
   "execution_count": 8,
   "metadata": {},
   "outputs": [],
   "source": [
    "#!/usr/bin/env python3\n",
    "\n",
    "import wave\n",
    "import sys\n",
    "\n",
    "from vosk import Model, KaldiRecognizer"
   ]
  },
  {
   "cell_type": "code",
   "execution_count": 9,
   "metadata": {},
   "outputs": [],
   "source": [
    "#model = Model(lang=\"en-us\")\n",
    "model = Model(model_path='data/vosk-model-ru-0.10')"
   ]
  },
  {
   "cell_type": "code",
   "execution_count": 9,
   "metadata": {},
   "outputs": [
    {
     "name": "stderr",
     "output_type": "stream",
     "text": [
      "vosk-model-small-ru-0.22.zip: 100%|██████████| 44.1M/44.1M [01:32<00:00, 498kB/s]   \n"
     ]
    },
    {
     "data": {
      "text/plain": [
       "WindowsPath('C:/Users/aakorobov/.cache/vosk/vosk-model-small-ru-0.22')"
      ]
     },
     "execution_count": 9,
     "metadata": {},
     "output_type": "execute_result"
    }
   ],
   "source": [
    "model.get_model_by_lang(lang='ru')"
   ]
  },
  {
   "cell_type": "code",
   "execution_count": 10,
   "metadata": {},
   "outputs": [
    {
     "name": "stdout",
     "output_type": "stream",
     "text": [
      "wf.getnchannels()=1\n",
      "wf.getsampwidth()=2\n",
      "wf.getcomptype()='NONE'\n"
     ]
    }
   ],
   "source": [
    "path = 'out_audio_1.wav'\n",
    "wf = wave.open(path, \"rb\")\n",
    "print(f'{wf.getnchannels()=}')\n",
    "print(f'{wf.getsampwidth()=}')\n",
    "print(f'{wf.getcomptype()=}')"
   ]
  },
  {
   "cell_type": "code",
   "execution_count": 34,
   "metadata": {},
   "outputs": [],
   "source": [
    "import json"
   ]
  },
  {
   "cell_type": "code",
   "execution_count": 18,
   "metadata": {},
   "outputs": [],
   "source": [
    "import soundfile as sf\n",
    "wavs, sampling_rate = sf.read('out_audio_1.wav')"
   ]
  },
  {
   "cell_type": "code",
   "execution_count": 22,
   "metadata": {},
   "outputs": [],
   "source": [
    "import  matplotlib.pyplot as plt"
   ]
  },
  {
   "cell_type": "code",
   "execution_count": 26,
   "metadata": {},
   "outputs": [
    {
     "data": {
      "text/plain": [
       "[<matplotlib.lines.Line2D at 0x175c35acac0>]"
      ]
     },
     "execution_count": 26,
     "metadata": {},
     "output_type": "execute_result"
    },
    {
     "data": {
      "image/png": "[encoded data removed]",
      "text/plain": [
       "<Figure size 640x480 with 1 Axes>"
      ]
     },
     "metadata": {},
     "output_type": "display_data"
    }
   ],
   "source": [
    "plt.plot(wavs)"
   ]
  },
  {
   "cell_type": "code",
   "execution_count": 50,
   "metadata": {},
   "outputs": [
    {
     "name": "stderr",
     "output_type": "stream",
     "text": [
      "100%|██████████| 126/126 [00:00<?, ?it/s]\n"
     ]
    },
    {
     "data": {
      "text/plain": [
       "126"
      ]
     },
     "execution_count": 50,
     "metadata": {},
     "output_type": "execute_result"
    }
   ],
   "source": [
    "import tqdm\n",
    "c = 8000\n",
    "N = wavs.shape[0]\n",
    "count_chank = N//c\n",
    "i = 1 if (N/c - count_chank)>0 else 0\n",
    "k = 0\n",
    "for _ in tqdm.tqdm(range(count_chank+1)):\n",
    "  k += 1\n",
    "k"
   ]
  },
  {
   "cell_type": "code",
   "execution_count": 38,
   "metadata": {},
   "outputs": [
    {
     "name": "stdout",
     "output_type": "stream",
     "text": [
      "команды оптимизатора николая\n",
      "лучше конечно подождать\n",
      "сейчас же\n",
      "беру\n"
     ]
    }
   ],
   "source": [
    "#path = sys.argv[1]\n",
    "import json\n",
    "path = 'out_audio_1.wav'\n",
    "wf = wave.open(path, \"rb\")\n",
    "if wf.getnchannels() != 1 or wf.getsampwidth() != 2 or wf.getcomptype() != \"NONE\":\n",
    "    print(\"Audio file must be WAV format mono PCM.\")\n",
    "    #sys.exit(1)\n",
    "\n",
    "# You can also specify the possible word or phrase list as JSON list,\n",
    "# the order doesn't have to be strict\n",
    "rec = KaldiRecognizer(model, wf.getframerate())\n",
    "\n",
    "while True:\n",
    "    data = wf.readframes(8000)\n",
    "    if len(data) == 0:\n",
    "        break\n",
    "    if rec.AcceptWaveform(data):\n",
    "        r = rec.Result()\n",
    "        rj = json.loads(r)\n",
    "        if 'text' in rj and rj['text'] != '':\n",
    "            print(rj['text'])\n",
    "        #print(r['partial'])\n",
    "        #rec.SetGrammar('[\"one zero one two three oh\", \"four five six\", \"seven eight nine zero\", \"[unk]\"]')\n",
    "    # else:\n",
    "    #     r = rec.PartialResult()\n",
    "    #     rj = json.loads(r)\n",
    "        \n",
    "    #     if 'partial' in rj:\n",
    "    #         text = rj['partial']\n",
    "    #         if len(text)>0:\n",
    "    #             print(text)\n",
    "\n",
    "r = rec.FinalResult()\n",
    "rj = json.loads(r)\n",
    "if 'text' in rj and rj['text'] != '':\n",
    "    print(rj['text'])"
   ]
  },
  {
   "cell_type": "code",
   "execution_count": 61,
   "metadata": {},
   "outputs": [
    {
     "name": "stdout",
     "output_type": "stream",
     "text": [
      "\u001b[1;31mInit signature:\u001b[0m \u001b[0mtqdm\u001b[0m\u001b[1;33m(\u001b[0m\u001b[1;33m*\u001b[0m\u001b[0m_\u001b[0m\u001b[1;33m,\u001b[0m \u001b[1;33m**\u001b[0m\u001b[0m__\u001b[0m\u001b[1;33m)\u001b[0m\u001b[1;33m\u001b[0m\u001b[1;33m\u001b[0m\u001b[0m\n",
      "\u001b[1;31mDocstring:\u001b[0m     \n",
      "Decorate an iterable object, returning an iterator which acts exactly\n",
      "like the original iterable, but prints a dynamically updating\n",
      "progressbar every time a value is requested.\n",
      "\n",
      "Parameters\n",
      "----------\n",
      "iterable  : iterable, optional\n",
      "    Iterable to decorate with a progressbar.\n",
      "    Leave blank to manually manage the updates.\n",
      "desc  : str, optional\n",
      "    Prefix for the progressbar.\n",
      "total  : int or float, optional\n",
      "    The number of expected iterations. If unspecified,\n",
      "    len(iterable) is used if possible. If float(\"inf\") or as a last\n",
      "    resort, only basic progress statistics are displayed\n",
      "    (no ETA, no progressbar).\n",
      "    If `gui` is True and this parameter needs subsequent updating,\n",
      "    specify an initial arbitrary large positive number,\n",
      "    e.g. 9e9.\n",
      "leave  : bool, optional\n",
      "    If [default: True], keeps all traces of the progressbar\n",
      "    upon termination of iteration.\n",
      "    If `None`, will leave only if `position` is `0`.\n",
      "file  : `io.TextIOWrapper` or `io.StringIO`, optional\n",
      "    Specifies where to output the progress messages\n",
      "    (default: sys.stderr). Uses `file.write(str)` and `file.flush()`\n",
      "    methods.  For encoding, see `write_bytes`.\n",
      "ncols  : int, optional\n",
      "    The width of the entire output message. If specified,\n",
      "    dynamically resizes the progressbar to stay within this bound.\n",
      "    If unspecified, attempts to use environment width. The\n",
      "    fallback is a meter width of 10 and no limit for the counter and\n",
      "    statistics. If 0, will not print any meter (only stats).\n",
      "mininterval  : float, optional\n",
      "    Minimum progress display update interval [default: 0.1] seconds.\n",
      "maxinterval  : float, optional\n",
      "    Maximum progress display update interval [default: 10] seconds.\n",
      "    Automatically adjusts `miniters` to correspond to `mininterval`\n",
      "    after long display update lag. Only works if `dynamic_miniters`\n",
      "    or monitor thread is enabled.\n",
      "miniters  : int or float, optional\n",
      "    Minimum progress display update interval, in iterations.\n",
      "    If 0 and `dynamic_miniters`, will automatically adjust to equal\n",
      "    `mininterval` (more CPU efficient, good for tight loops).\n",
      "    If > 0, will skip display of specified number of iterations.\n",
      "    Tweak this and `mininterval` to get very efficient loops.\n",
      "    If your progress is erratic with both fast and slow iterations\n",
      "    (network, skipping items, etc) you should set miniters=1.\n",
      "ascii  : bool or str, optional\n",
      "    If unspecified or False, use unicode (smooth blocks) to fill\n",
      "    the meter. The fallback is to use ASCII characters \" 123456789#\".\n",
      "disable  : bool, optional\n",
      "    Whether to disable the entire progressbar wrapper\n",
      "    [default: False]. If set to None, disable on non-TTY.\n",
      "unit  : str, optional\n",
      "    String that will be used to define the unit of each iteration\n",
      "    [default: it].\n",
      "unit_scale  : bool or int or float, optional\n",
      "    If 1 or True, the number of iterations will be reduced/scaled\n",
      "    automatically and a metric prefix following the\n",
      "    International System of Units standard will be added\n",
      "    (kilo, mega, etc.) [default: False]. If any other non-zero\n",
      "    number, will scale `total` and `n`.\n",
      "dynamic_ncols  : bool, optional\n",
      "    If set, constantly alters `ncols` and `nrows` to the\n",
      "    environment (allowing for window resizes) [default: False].\n",
      "smoothing  : float, optional\n",
      "    Exponential moving average smoothing factor for speed estimates\n",
      "    (ignored in GUI mode). Ranges from 0 (average speed) to 1\n",
      "    (current/instantaneous speed) [default: 0.3].\n",
      "bar_format  : str, optional\n",
      "    Specify a custom bar string formatting. May impact performance.\n",
      "    [default: '{l_bar}{bar}{r_bar}'], where\n",
      "    l_bar='{desc}: {percentage:3.0f}%|' and\n",
      "    r_bar='| {n_fmt}/{total_fmt} [{elapsed}<{remaining}, '\n",
      "        '{rate_fmt}{postfix}]'\n",
      "    Possible vars: l_bar, bar, r_bar, n, n_fmt, total, total_fmt,\n",
      "        percentage, elapsed, elapsed_s, ncols, nrows, desc, unit,\n",
      "        rate, rate_fmt, rate_noinv, rate_noinv_fmt,\n",
      "        rate_inv, rate_inv_fmt, postfix, unit_divisor,\n",
      "        remaining, remaining_s, eta.\n",
      "    Note that a trailing \": \" is automatically removed after {desc}\n",
      "    if the latter is empty.\n",
      "initial  : int or float, optional\n",
      "    The initial counter value. Useful when restarting a progress\n",
      "    bar [default: 0]. If using float, consider specifying `{n:.3f}`\n",
      "    or similar in `bar_format`, or specifying `unit_scale`.\n",
      "position  : int, optional\n",
      "    Specify the line offset to print this bar (starting from 0)\n",
      "    Automatic if unspecified.\n",
      "    Useful to manage multiple bars at once (eg, from threads).\n",
      "postfix  : dict or *, optional\n",
      "    Specify additional stats to display at the end of the bar.\n",
      "    Calls `set_postfix(**postfix)` if possible (dict).\n",
      "unit_divisor  : float, optional\n",
      "    [default: 1000], ignored unless `unit_scale` is True.\n",
      "write_bytes  : bool, optional\n",
      "    Whether to write bytes. If (default: False) will write unicode.\n",
      "lock_args  : tuple, optional\n",
      "    Passed to `refresh` for intermediate output\n",
      "    (initialisation, iterating, and updating).\n",
      "nrows  : int, optional\n",
      "    The screen height. If specified, hides nested bars outside this\n",
      "    bound. If unspecified, attempts to use environment height.\n",
      "    The fallback is 20.\n",
      "colour  : str, optional\n",
      "    Bar colour (e.g. 'green', '#00ff00').\n",
      "delay  : float, optional\n",
      "    Don't display until [default: 0] seconds have elapsed.\n",
      "gui  : bool, optional\n",
      "    WARNING: internal parameter - do not use.\n",
      "    Use tqdm.gui.tqdm(...) instead. If set, will attempt to use\n",
      "    matplotlib animations for a graphical output [default: False].\n",
      "\n",
      "Returns\n",
      "-------\n",
      "out  : decorated iterator.\n",
      "\u001b[1;31mFile:\u001b[0m           c:\\work\\audio_to_text\\.venv\\lib\\site-packages\\tqdm\\std.py\n",
      "\u001b[1;31mType:\u001b[0m           type\n",
      "\u001b[1;31mSubclasses:\u001b[0m     tqdm_gui"
     ]
    }
   ],
   "source": [
    "tqdm?"
   ]
  },
  {
   "cell_type": "code",
   "execution_count": 62,
   "metadata": {},
   "outputs": [
    {
     "name": "stderr",
     "output_type": "stream",
     "text": [
      "100%|\u001b[32m██████████\u001b[0m| 81/81 [00:00<?, ?it/s]\n"
     ]
    }
   ],
   "source": [
    "import os\n",
    "from tqdm import tqdm\n",
    "base_path = r'c:\\Users\\aakorobov\\Videos'\n",
    "for file_name in tqdm(os.listdir(base_path),colour='green'):\n",
    "  if not '.mkv' in file_name:\n",
    "    continue\n",
    "  full_path = os.path.join(base_path, file_name)\n",
    "  #print(full_path)"
   ]
  },
  {
   "cell_type": "code",
   "execution_count": 52,
   "metadata": {},
   "outputs": [
    {
     "name": "stderr",
     "output_type": "stream",
     "text": [
      "100%|██████████| 126/126 [00:06<00:00, 19.33it/s]\n"
     ]
    },
    {
     "data": {
      "text/plain": [
       "['команды оптимизатора николая',\n",
       " 'лучше конечно подождать',\n",
       " 'сейчас же',\n",
       " 'беру']"
      ]
     },
     "execution_count": 52,
     "metadata": {},
     "output_type": "execute_result"
    }
   ],
   "source": [
    "import tqdm\n",
    "import json\n",
    "import wave\n",
    "import sys\n",
    "\n",
    "from vosk import Model, KaldiRecognizer\n",
    "\n",
    "model = Model(model_path='data/vosk-model-ru-0.10')\n",
    "\n",
    "def recognize_file(path):\n",
    "  #path = 'out_audio_1.wav'\n",
    "  wf = wave.open(path, \"rb\")\n",
    "  if wf.getnchannels() != 1 or wf.getsampwidth() != 2 or wf.getcomptype() != \"NONE\":\n",
    "      raise Exception(\"Audio file must be WAV format mono PCM.\")\n",
    "      #sys.exit(1)\n",
    "\n",
    "  c = 8000\n",
    "  N = wf.getnframes()\n",
    "  count_chank = N//c\n",
    "  i = 1 if (N/c - count_chank)>0 else 0\n",
    "  k = 0\n",
    "\n",
    "  result_text = []\n",
    "\n",
    "  # You can also specify the possible word or phrase list as JSON list,\n",
    "  # the order doesn't have to be strict\n",
    "  rec = KaldiRecognizer(model, wf.getframerate())\n",
    "\n",
    "  for _ in tqdm.tqdm(range(count_chank + i)):\n",
    "      data = wf.readframes(c)\n",
    "      if len(data) == 0:\n",
    "          break\n",
    "      if rec.AcceptWaveform(data):\n",
    "          r = rec.Result()\n",
    "          rj = json.loads(r)\n",
    "          if 'text' in rj and rj['text'] != '':\n",
    "              result_text.append(rj['text'])\n",
    "\n",
    "  r = rec.FinalResult()\n",
    "  rj = json.loads(r)\n",
    "  if 'text' in rj and rj['text'] != '':\n",
    "      result_text.append(rj['text'])\n",
    "\n",
    "return result_text"
   ]
  },
  {
   "cell_type": "code",
   "execution_count": 46,
   "metadata": {},
   "outputs": [
    {
     "data": {
      "text/plain": [
       "'команды оптимизатора николай лучше конечно началу подождать сейчас же беру'"
      ]
     },
     "execution_count": 46,
     "metadata": {},
     "output_type": "execute_result"
    }
   ],
   "source": [
    "import wave\n",
    "import json\n",
    "import vosk\n",
    "from vosk import KaldiRecognizer\n",
    "\n",
    "\n",
    "def recognize_phrase(model: vosk.Model, phrase_wav_path: str) -> str:\n",
    "    \"\"\"\n",
    "    Recognize Russian voice in wav\n",
    "    \"\"\"\n",
    "\n",
    "    wave_audio_file = wave.open(phrase_wav_path, \"rb\")\n",
    "    offline_recognizer = KaldiRecognizer(model, wave_audio_file.getframerate())\n",
    "    data = wave_audio_file.readframes(wave_audio_file.getnframes())\n",
    "\n",
    "    offline_recognizer.AcceptWaveform(data)\n",
    "    recognized_data = json.loads(offline_recognizer.Result())[\"text\"]\n",
    "    return recognized_data\n",
    "\n",
    "recognize_phrase(model, path)\n",
    "#'команды оптимизатора николай лучше конечно началу сказать сейчас же беру'\n",
    "#'команды оптимизатора николай лучше конечно началу подождать сейчас же беру'\n",
    "\n",
    "Команды оптимизаторы, Николая и Дин. Лучше, конечно, ничего. Подождать. Сейчас еще раз уберу.\n",
    "\n"
   ]
  },
  {
   "cell_type": "code",
   "execution_count": null,
   "metadata": {},
   "outputs": [],
   "source": []
  },
  {
   "cell_type": "code",
   "execution_count": 3,
   "metadata": {},
   "outputs": [
    {
     "name": "stdout",
     "output_type": "stream",
     "text": [
      "Python 3.10.5\n",
      "pip 24.1.2 from C:\\work\\audio_to_text\\.venv\\lib\\site-packages\\pip (python 3.10)\n",
      "\n",
      "c:\\work\\audio_to_text\\.venv\\Scripts\\python.exe\n",
      "C:\\Users\\aakorobov\\.pyenv\\pyenv-win\\shims\\python\n",
      "C:\\Users\\aakorobov\\.pyenv\\pyenv-win\\shims\\python.bat\n",
      "C:\\Users\\aakorobov\\AppData\\Local\\Microsoft\\WindowsApps\\python.exe\n"
     ]
    },
    {
     "name": "stderr",
     "output_type": "stream",
     "text": [
      "INFO: Could not find \"-V\".\n"
     ]
    },
    {
     "name": "stdout",
     "output_type": "stream",
     "text": [
      "c:\\work\\audio_to_text\\.venv\\Scripts\\pip.exe\n",
      "C:\\Users\\aakorobov\\.pyenv\\pyenv-win\\shims\\pip\n",
      "C:\\Users\\aakorobov\\.pyenv\\pyenv-win\\shims\\pip.bat\n"
     ]
    },
    {
     "name": "stderr",
     "output_type": "stream",
     "text": [
      "INFO: Could not find \"-V\".\n"
     ]
    }
   ],
   "source": [
    "python -V\n",
    "pip -V\n",
    "where python\n",
    "where pip"
   ]
  },
  {
   "cell_type": "code",
   "execution_count": 5,
   "metadata": {},
   "outputs": [],
   "source": [
    "import pyaudio\n",
    "\n",
    "p = pyaudio.PyAudio()\n",
    "stream = p.open(format=pyaudio.paInt16, channels=1, rate=16000, input=True, frames_per_buffer=8000)\n",
    "\n",
    "p = pyaudio.PyAudio()\n",
    "stream = p.open(format=pyaudio.paInt16, channels=1, rate=16000, input=True, frames_per_buffer=8000)"
   ]
  },
  {
   "cell_type": "code",
   "execution_count": 2,
   "metadata": {},
   "outputs": [
    {
     "name": "stdout",
     "output_type": "stream",
     "text": [
      "start listing...\n",
      "алло\n",
      "алло\n",
      "алло\n",
      "алло\n",
      "алло\n",
      "{\n",
      "  \"text\" : \"алло\"\n",
      "}\n",
      "привет\n",
      "привет\n",
      "привет всем\n",
      "привет всем как\n",
      "привет всем как\n",
      "привет всем как\n",
      "привет всем как\n",
      "привет всем как дела\n",
      "привет всем как дела\n",
      "привет всем как дела\n",
      "привет всем как дела\n",
      "привет всем как дела\n",
      "привет всем как дела\n",
      "привет всем как дела\n",
      "привет всем как дела\n",
      "привет всем как дела\n",
      "привет всем как дела\n",
      "{\n",
      "  \"text\" : \"привет всем как дела\"\n",
      "}\n",
      "да\n",
      "да\n",
      "да блин\n",
      "да блин\n",
      "да блин почему\n",
      "да блин почему\n",
      "да блин почему\n",
      "да блин почему\n",
      "да блин почему она\n",
      "да блин почему она\n",
      "да блин почему она так\n",
      "да блин почему она так\n",
      "да блин почему она так все просто\n",
      "да блин почему она так все просто\n",
      "да блин почему она так все происходит\n",
      "да блин почему она так все происходит\n",
      "да блин почему она так все происходит\n",
      "да блин почему она так все происходит\n",
      "да блин почему она так все происходит\n",
      "да блин почему она так все происходит\n",
      "да блин почему она так все происходит\n",
      "да блин почему она так все происходит\n",
      "{\n",
      "  \"text\" : \"да блин почему она так все происходит\"\n",
      "}\n",
      "но при\n",
      "но при\n",
      "но прикольно\n",
      "но прикольно\n",
      "но прикольно конечно\n",
      "но прикольно конечно\n",
      "но прикольно конечно\n",
      "но прикольно конечно\n",
      "но прикольно конечно\n",
      "но прикольно конечно\n",
      "но прикольно конечно\n",
      "но прикольно конечно\n",
      "но прикольно конечно\n",
      "но прикольно конечно\n",
      "но прикольно конечно\n",
      "но прикольно конечно\n",
      "{\n",
      "  \"text\" : \"но прикольно конечно\"\n",
      "}\n",
      "бум\n",
      "бум\n",
      "бум чак\n",
      "бум чак\n",
      "бум тебя\n",
      "бум тебя казака\n",
      "бум тебя казака\n",
      "бум тебя казака\n",
      "бум тебя казака\n",
      "{\n",
      "  \"text\" : \"бум тебя козака\"\n",
      "}\n",
      "казаки\n",
      "казаки\n",
      "казаки и\n",
      "казаки и\n",
      "казаки\n",
      "казаки\n",
      "казаки\n",
      "казаки\n",
      "казаки\n",
      "казаки\n",
      "казаки-разбойники\n",
      "казаки-разбойники\n",
      "казаки-разбойники\n",
      "казаки-разбойники\n",
      "казаки-разбойники\n",
      "казаки-разбойники некие\n",
      "казаки-разбойники некие\n",
      "казаки-разбойники некие реке\n",
      "казаки-разбойники некие реке\n",
      "казаки-разбойники некие\n",
      "казаки-разбойники некие\n",
      "казаки-разбойники некие керри\n",
      "казаки-разбойники некие керри\n",
      "казаки-разбойники некие керри\n",
      "казаки-разбойники некие керри\n",
      "{\n",
      "  \"text\" : \"казаки и разбойники не кери кери\"\n",
      "}\n",
      "вот\n",
      "вот\n",
      "вот те\n",
      "вот те\n",
      "вот те\n",
      "вот те\n",
      "вот те копы\n",
      "вот те копы\n",
      "вот те копы\n",
      "вот те к коим\n",
      "вот те к коим\n",
      "вот те копы не\n",
      "вот те копы не\n",
      "вот те копы некие\n",
      "вот те копы некие\n",
      "вот те копы некие\n",
      "вот те копы некие\n",
      "вот те копы некие\n",
      "вот те копы некие\n",
      "вот те копы некие коки по\n",
      "вот те копы некие коки по\n",
      "вот те копы некие коки по\n",
      "вот те копы некие коки по\n",
      "вот те копы некие коки по карей\n",
      "вот те копы некие коки по карей\n",
      "вот те копы некие коки по карей\n",
      "вот те копы некие коки по карей\n",
      "{\n",
      "  \"text\" : \"вот те копал кои некие коки по карей\"\n",
      "}\n"
     ]
    },
    {
     "ename": "OSError",
     "evalue": "[Errno -9981] Input overflowed",
     "output_type": "error",
     "traceback": [
      "\u001b[1;31m---------------------------------------------------------------------------\u001b[0m",
      "\u001b[1;31mOSError\u001b[0m                                   Traceback (most recent call last)",
      "Cell \u001b[1;32mIn[2], line 21\u001b[0m\n\u001b[0;32m     19\u001b[0m \u001b[38;5;28mprint\u001b[39m(\u001b[38;5;124m'\u001b[39m\u001b[38;5;124mstart listing...\u001b[39m\u001b[38;5;124m'\u001b[39m)\n\u001b[0;32m     20\u001b[0m \u001b[38;5;28;01mwhile\u001b[39;00m \u001b[38;5;28;01mTrue\u001b[39;00m:\n\u001b[1;32m---> 21\u001b[0m     data \u001b[38;5;241m=\u001b[39m \u001b[43mstream\u001b[49m\u001b[38;5;241;43m.\u001b[39;49m\u001b[43mread\u001b[49m\u001b[43m(\u001b[49m\u001b[38;5;241;43m2000\u001b[39;49m\u001b[43m)\u001b[49m\n\u001b[0;32m     22\u001b[0m     \u001b[38;5;28;01mif\u001b[39;00m \u001b[38;5;28mlen\u001b[39m(data) \u001b[38;5;241m==\u001b[39m \u001b[38;5;241m0\u001b[39m:\n\u001b[0;32m     23\u001b[0m         \u001b[38;5;28;01mbreak\u001b[39;00m\n",
      "File \u001b[1;32mc:\\work\\audio_to_text\\.venv\\lib\\site-packages\\pyaudio\\__init__.py:570\u001b[0m, in \u001b[0;36mPyAudio.Stream.read\u001b[1;34m(self, num_frames, exception_on_overflow)\u001b[0m\n\u001b[0;32m    567\u001b[0m \u001b[38;5;28;01mif\u001b[39;00m \u001b[38;5;129;01mnot\u001b[39;00m \u001b[38;5;28mself\u001b[39m\u001b[38;5;241m.\u001b[39m_is_input:\n\u001b[0;32m    568\u001b[0m     \u001b[38;5;28;01mraise\u001b[39;00m \u001b[38;5;167;01mIOError\u001b[39;00m(\u001b[38;5;124m\"\u001b[39m\u001b[38;5;124mNot input stream\u001b[39m\u001b[38;5;124m\"\u001b[39m,\n\u001b[0;32m    569\u001b[0m                   paCanNotReadFromAnOutputOnlyStream)\n\u001b[1;32m--> 570\u001b[0m \u001b[38;5;28;01mreturn\u001b[39;00m \u001b[43mpa\u001b[49m\u001b[38;5;241;43m.\u001b[39;49m\u001b[43mread_stream\u001b[49m\u001b[43m(\u001b[49m\u001b[38;5;28;43mself\u001b[39;49m\u001b[38;5;241;43m.\u001b[39;49m\u001b[43m_stream\u001b[49m\u001b[43m,\u001b[49m\u001b[43m \u001b[49m\u001b[43mnum_frames\u001b[49m\u001b[43m,\u001b[49m\n\u001b[0;32m    571\u001b[0m \u001b[43m                      \u001b[49m\u001b[43mexception_on_overflow\u001b[49m\u001b[43m)\u001b[49m\n",
      "\u001b[1;31mOSError\u001b[0m: [Errno -9981] Input overflowed"
     ]
    }
   ],
   "source": [
    "from vosk import Model, KaldiRecognizer\n",
    "import os\n",
    "import json\n",
    "\n",
    "# if not os.path.exists(\"model-en\"):\n",
    "#     print (\"Please download the model from https://github.com/alphacep/kaldi-android-demo/releases and unpack as 'model' in the current folder.\")\n",
    "#     exit (1)\n",
    "\n",
    "import pyaudio\n",
    "\n",
    "p = pyaudio.PyAudio()\n",
    "stream = p.open(format=pyaudio.paInt16, channels=1, rate=16000, input=True, frames_per_buffer=8000)\n",
    "stream.start_stream()\n",
    "\n",
    "#model = Model(\"model-en\")\n",
    "\n",
    "#model = Model(model_path='data/vosk-model-ru-0.10')\n",
    "rec = KaldiRecognizer(model, 16000)\n",
    "print('start listing...')\n",
    "while True:\n",
    "    data = stream.read(2000)\n",
    "    if len(data) == 0:\n",
    "        break\n",
    "    if rec.AcceptWaveform(data):\n",
    "        print(rec.Result())\n",
    "    else:\n",
    "        #print(rec.PartialResult())\n",
    "        r = rec.PartialResult()\n",
    "        rj = json.loads(r)\n",
    "        \n",
    "        if 'partial' in rj:\n",
    "            text = rj['partial']\n",
    "            if len(text)>0:\n",
    "                print(text)\n",
    "\n",
    "print(rec.FinalResult())"
   ]
  }
 ],
 "metadata": {
  "kernelspec": {
   "display_name": ".venv",
   "language": "python",
   "name": "python3"
  },
  "language_info": {
   "codemirror_mode": {
    "name": "ipython",
    "version": 3
   },
   "file_extension": ".py",
   "mimetype": "text/x-python",
   "name": "python",
   "nbconvert_exporter": "python",
   "pygments_lexer": "ipython3",
   "version": "3.10.5"
  }
 },
 "nbformat": 4,
 "nbformat_minor": 2
}
